{
 "cells": [
  {
   "cell_type": "raw",
   "id": "3e5c65df-ad34-431c-80c8-7e1a7e96ef1b",
   "metadata": {},
   "source": [
    "Q1 -> when to use while loop and for loop explain with example ?\n",
    "\n",
    "Ans while loop ->\n",
    "-> A while loop evaluates the condition.\n",
    "-> If the condition evaluates to True, the code inside the while loop is executed.\n",
    "-> condition is evaluated again.\n",
    "-> This process continues until the condition is False.\n",
    "-> When condition evaluates to False, the loop stops.\n",
    "-> when we dont know how much time we have to iterate the loop then we use while loop\n",
    "\n",
    "ex of while loop\n",
    "count = 0\n",
    "while (count < 3):\n",
    "    count = count + 1\n",
    "    print(\"Hello bro\")\n",
    "    \n",
    "    for loop -> \n",
    "-> In Python, the for loop is used to run a block of code for a certain number of times. It is used to iterate over any sequences such as list, tuple, string, etc.\n",
    "-> Python For loop is used for sequential traversal\n",
    "-> The indented statements inside the for loops are executed once for each item in an iterable.\n",
    "    example of for loop\n",
    "    \n",
    "l = [\"shudh\", \"abhi\", \"bisht\"]\n",
    "for i in l:\n",
    "    print(i)"
   ]
  },
  {
   "cell_type": "code",
   "execution_count": null,
   "id": "67497df9-07e1-4e2d-8864-40bc214ce853",
   "metadata": {},
   "outputs": [],
   "source": [
    "Q2 -> Write a pyhton programm to print the sum and product of the first 10 natural number\n",
    "\n",
    "Ans ->\n",
    "<!-- using for loop -->\n",
    "Sum = 0\n",
    "product = 1\n",
    "for i in range(1,11):\n",
    "    Sum += i\n",
    "    product *= i\n",
    "print(Sum , product)\n",
    "<!-- using while loop -->\n",
    "l = 1\n",
    "Sum = 0 \n",
    "product = 1\n",
    "while(l <= 10):\n",
    "    Sum += l\n",
    "    product *= l\n",
    "    l = l + 1\n",
    "    \n",
    "print(Sum , product)"
   ]
  },
  {
   "cell_type": "code",
   "execution_count": null,
   "id": "b68a5684-71b7-4204-993d-1cf0d1175114",
   "metadata": {},
   "outputs": [],
   "source": [
    "Q3 -> calculate the bill according to the units\n",
    "\n",
    "Ans -> def calc_bill(units):\n",
    "    bill = 0\n",
    "    if units <= 100:\n",
    "        bill = units * 4.5\n",
    "    elif units <= 200:\n",
    "        bill = 100 * 4.5 + (units - 100) * 6\n",
    "    elif units <= 300:\n",
    "        bill = 100 * 4.5 + 100 * 6 + (units - 200) * 10\n",
    "    else:\n",
    "        bill = 100 * 4.5 + 100 * 6 + 100 * 10 + (units - 300) * 20\n",
    "    return bill\n",
    "\n",
    "units = int(input(\"Enter number of units : \"))\n",
    "print(calc_bill(units))\n"
   ]
  },
  {
   "cell_type": "code",
   "execution_count": 18,
   "id": "07014343-6434-4d69-88b9-4df7c66170ca",
   "metadata": {},
   "outputs": [
    {
     "name": "stdout",
     "output_type": "stream",
     "text": [
      "0\n"
     ]
    }
   ],
   "source": [
    "Q4 -> Create a list of numbers from 1 to 100. Use for loop and while loop to calculate the cube of each\n",
    "number and if the cube of that number is divisible by 4 or 5 then append that number in a list and print\n",
    "that list.\n",
    "\n",
    "Ans ->\n",
    "l= list(range(1,101))\n",
    "new_l = []\n",
    "for i in l:\n",
    "    cube = i**3\n",
    "    if cube % 4 == 0 or cube % 5 == 0:\n",
    "        new_l.append(cube)\n",
    "print(new_l)"
   ]
  },
  {
   "cell_type": "code",
   "execution_count": null,
   "id": "c802beff-e60e-4fb6-bccd-7fc9b303384b",
   "metadata": {},
   "outputs": [],
   "source": [
    "Q5 -> count the number of vowels in the string ?\n",
    "\n",
    "Ans -> str = \"I am Want to become a data scientist\"\n",
    "def string(atr):\n",
    "    vowels = ['a' , 'i' ,'e','o','u' , 'A' , 'I' ,'E' ,'O' , 'U']\n",
    "    count = 0\n",
    "    for i in atr:\n",
    "        if i in vowels:\n",
    "            count = count + 1\n",
    "    print(count)\n",
    "string(str)"
   ]
  },
  {
   "cell_type": "code",
   "execution_count": null,
   "id": "6bbfea15-ed12-4643-bef1-aa082fdb1453",
   "metadata": {},
   "outputs": [],
   "source": []
  },
  {
   "cell_type": "code",
   "execution_count": null,
   "id": "ce78ca15-9fb1-441d-9bb6-a27fef55060c",
   "metadata": {},
   "outputs": [],
   "source": []
  },
  {
   "cell_type": "code",
   "execution_count": null,
   "id": "94d98299-4e3e-473e-8bee-7b6b741fe07f",
   "metadata": {},
   "outputs": [],
   "source": []
  },
  {
   "cell_type": "code",
   "execution_count": null,
   "id": "c7ed2c9f-65f6-4b0b-81c2-fe9027f80c6f",
   "metadata": {},
   "outputs": [],
   "source": []
  },
  {
   "cell_type": "code",
   "execution_count": null,
   "id": "ab54d316-5539-4a20-a0a5-d9ad2e7d4b9c",
   "metadata": {},
   "outputs": [],
   "source": []
  },
  {
   "cell_type": "code",
   "execution_count": null,
   "id": "686199f6-1b4a-47b4-bae0-1bdef3ca3eb0",
   "metadata": {},
   "outputs": [],
   "source": []
  },
  {
   "cell_type": "code",
   "execution_count": null,
   "id": "d4e80e7e-aada-4e4c-af19-b50ba05041c2",
   "metadata": {},
   "outputs": [],
   "source": []
  },
  {
   "cell_type": "code",
   "execution_count": null,
   "id": "7b6bd990-ac95-4f7d-a9bc-fce47c4032b5",
   "metadata": {},
   "outputs": [],
   "source": []
  },
  {
   "cell_type": "code",
   "execution_count": null,
   "id": "34153d68-82e4-483f-93da-6ddf80f818c5",
   "metadata": {},
   "outputs": [],
   "source": []
  },
  {
   "cell_type": "code",
   "execution_count": null,
   "id": "aa920cad-7896-4ef5-ae7d-31157b517f19",
   "metadata": {},
   "outputs": [],
   "source": []
  },
  {
   "cell_type": "code",
   "execution_count": null,
   "id": "05794283-672a-40be-8a35-9275b5c3858c",
   "metadata": {},
   "outputs": [],
   "source": []
  }
 ],
 "metadata": {
  "kernelspec": {
   "display_name": "Python 3 (ipykernel)",
   "language": "python",
   "name": "python3"
  },
  "language_info": {
   "codemirror_mode": {
    "name": "ipython",
    "version": 3
   },
   "file_extension": ".py",
   "mimetype": "text/x-python",
   "name": "python",
   "nbconvert_exporter": "python",
   "pygments_lexer": "ipython3",
   "version": "3.10.8"
  }
 },
 "nbformat": 4,
 "nbformat_minor": 5
}
